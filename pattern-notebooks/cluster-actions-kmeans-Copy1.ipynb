{
 "cells": [
  {
   "cell_type": "code",
   "execution_count": 1,
   "metadata": {},
   "outputs": [],
   "source": [
    "%load_ext autoreload\n",
    "%autoreload 2\n",
    "import os; import sys; sys.path.insert(0,'../')\n",
    "import pandas as pd\n",
    "import tqdm\n",
    "import warnings\n",
    "warnings.simplefilter(action='ignore', category=pd.errors.PerformanceWarning)\n",
    "\n",
    "import socceraction.atomic.features as fs\n",
    "#import socceraction.atomic.labels as lab"
   ]
  },
  {
   "cell_type": "code",
   "execution_count": 2,
   "metadata": {},
   "outputs": [],
   "source": [
    "## Configure file and folder names\n",
    "datafolder = \"../data/private\"\n",
    "spadl_h5 = os.path.join(datafolder,\"spadl-statsbomb.h5\")"
   ]
  },
  {
   "cell_type": "code",
   "execution_count": 3,
   "metadata": {},
   "outputs": [
    {
     "name": "stdout",
     "output_type": "stream",
     "text": [
      "nb of games: 380\n"
     ]
    }
   ],
   "source": [
    "games = pd.read_hdf(spadl_h5,\"games\")\n",
    "games = games[(games.competition_name == \"Premier League\")\n",
    "             & (games.season_name == \"2018/2019\")]\n",
    "print(\"nb of games:\", len(games))\n",
    "\n",
    "actiontypes = pd.read_hdf(spadl_h5, \"atomic_actiontypes\")\n",
    "bodyparts = pd.read_hdf(spadl_h5, \"bodyparts\")"
   ]
  },
  {
   "cell_type": "code",
   "execution_count": 4,
   "metadata": {},
   "outputs": [
    {
     "name": "stderr",
     "output_type": "stream",
     "text": [
      "380it [00:08, 43.61it/s]\n"
     ]
    },
    {
     "data": {
      "text/html": [
       "<div>\n",
       "<style scoped>\n",
       "    .dataframe tbody tr th:only-of-type {\n",
       "        vertical-align: middle;\n",
       "    }\n",
       "\n",
       "    .dataframe tbody tr th {\n",
       "        vertical-align: top;\n",
       "    }\n",
       "\n",
       "    .dataframe thead th {\n",
       "        text-align: right;\n",
       "    }\n",
       "</style>\n",
       "<table border=\"1\" class=\"dataframe\">\n",
       "  <thead>\n",
       "    <tr style=\"text-align: right;\">\n",
       "      <th></th>\n",
       "      <th>game_id</th>\n",
       "      <th>period_id</th>\n",
       "      <th>action_id</th>\n",
       "      <th>time_seconds</th>\n",
       "      <th>timestamp</th>\n",
       "      <th>team_id</th>\n",
       "      <th>player_id</th>\n",
       "      <th>x</th>\n",
       "      <th>y</th>\n",
       "      <th>dx</th>\n",
       "      <th>dy</th>\n",
       "      <th>type_id</th>\n",
       "      <th>bodypart_id</th>\n",
       "      <th>type_name</th>\n",
       "    </tr>\n",
       "  </thead>\n",
       "  <tbody>\n",
       "    <tr>\n",
       "      <td>0</td>\n",
       "      <td>14562.0</td>\n",
       "      <td>1.0</td>\n",
       "      <td>0</td>\n",
       "      <td>1.0</td>\n",
       "      <td>00:00:01.344</td>\n",
       "      <td>58.0</td>\n",
       "      <td>9923.0</td>\n",
       "      <td>52.058824</td>\n",
       "      <td>34.430380</td>\n",
       "      <td>-10.588235</td>\n",
       "      <td>-0.000000</td>\n",
       "      <td>0</td>\n",
       "      <td>0</td>\n",
       "      <td>pass</td>\n",
       "    </tr>\n",
       "    <tr>\n",
       "      <td>1</td>\n",
       "      <td>14562.0</td>\n",
       "      <td>1.0</td>\n",
       "      <td>1</td>\n",
       "      <td>1.5</td>\n",
       "      <td>00:00:02.117</td>\n",
       "      <td>58.0</td>\n",
       "      <td>9917.0</td>\n",
       "      <td>41.470588</td>\n",
       "      <td>34.430380</td>\n",
       "      <td>-0.000000</td>\n",
       "      <td>-0.000000</td>\n",
       "      <td>23</td>\n",
       "      <td>0</td>\n",
       "      <td>receival</td>\n",
       "    </tr>\n",
       "    <tr>\n",
       "      <td>2</td>\n",
       "      <td>14562.0</td>\n",
       "      <td>1.0</td>\n",
       "      <td>2</td>\n",
       "      <td>2.0</td>\n",
       "      <td>00:00:02.117</td>\n",
       "      <td>58.0</td>\n",
       "      <td>9917.0</td>\n",
       "      <td>41.470588</td>\n",
       "      <td>34.430380</td>\n",
       "      <td>-0.000000</td>\n",
       "      <td>-0.000000</td>\n",
       "      <td>21</td>\n",
       "      <td>0</td>\n",
       "      <td>dribble</td>\n",
       "    </tr>\n",
       "    <tr>\n",
       "      <td>3</td>\n",
       "      <td>14562.0</td>\n",
       "      <td>1.0</td>\n",
       "      <td>3</td>\n",
       "      <td>2.0</td>\n",
       "      <td>00:00:02.969</td>\n",
       "      <td>58.0</td>\n",
       "      <td>9917.0</td>\n",
       "      <td>41.470588</td>\n",
       "      <td>34.430380</td>\n",
       "      <td>-15.882353</td>\n",
       "      <td>-14.632911</td>\n",
       "      <td>0</td>\n",
       "      <td>0</td>\n",
       "      <td>pass</td>\n",
       "    </tr>\n",
       "    <tr>\n",
       "      <td>4</td>\n",
       "      <td>14562.0</td>\n",
       "      <td>1.0</td>\n",
       "      <td>4</td>\n",
       "      <td>3.0</td>\n",
       "      <td>00:00:04.338</td>\n",
       "      <td>58.0</td>\n",
       "      <td>9924.0</td>\n",
       "      <td>25.588235</td>\n",
       "      <td>19.797468</td>\n",
       "      <td>-0.000000</td>\n",
       "      <td>-0.000000</td>\n",
       "      <td>23</td>\n",
       "      <td>0</td>\n",
       "      <td>receival</td>\n",
       "    </tr>\n",
       "  </tbody>\n",
       "</table>\n",
       "</div>"
      ],
      "text/plain": [
       "   game_id  period_id  action_id  time_seconds     timestamp  team_id  \\\n",
       "0  14562.0        1.0          0           1.0  00:00:01.344     58.0   \n",
       "1  14562.0        1.0          1           1.5  00:00:02.117     58.0   \n",
       "2  14562.0        1.0          2           2.0  00:00:02.117     58.0   \n",
       "3  14562.0        1.0          3           2.0  00:00:02.969     58.0   \n",
       "4  14562.0        1.0          4           3.0  00:00:04.338     58.0   \n",
       "\n",
       "   player_id          x          y         dx         dy  type_id  \\\n",
       "0     9923.0  52.058824  34.430380 -10.588235  -0.000000        0   \n",
       "1     9917.0  41.470588  34.430380  -0.000000  -0.000000       23   \n",
       "2     9917.0  41.470588  34.430380  -0.000000  -0.000000       21   \n",
       "3     9917.0  41.470588  34.430380 -15.882353 -14.632911        0   \n",
       "4     9924.0  25.588235  19.797468  -0.000000  -0.000000       23   \n",
       "\n",
       "   bodypart_id type_name  \n",
       "0            0      pass  \n",
       "1            0  receival  \n",
       "2            0   dribble  \n",
       "3            0      pass  \n",
       "4            0  receival  "
      ]
     },
     "execution_count": 4,
     "metadata": {},
     "output_type": "execute_result"
    }
   ],
   "source": [
    "with pd.HDFStore(spadl_h5) as spadlstore:\n",
    "    actions = []\n",
    "    for game in tqdm.tqdm(games.itertuples()):\n",
    "        a = spadlstore[f\"atomic_actions/game_{game.game_id}\"]\n",
    "        [a] = fs.play_left_to_right([a],game.home_team_id)\n",
    "        actions.append(a)\n",
    "    actions = pd.concat(actions)\n",
    "    actions = actions.merge(spadlstore[\"atomic_actiontypes\"],how=\"left\")\n",
    "actions[:5]"
   ]
  },
  {
   "cell_type": "code",
   "execution_count": 12,
   "metadata": {},
   "outputs": [
    {
     "name": "stdout",
     "output_type": "stream",
     "text": [
      "Help on function play_left_to_right in module socceraction.atomic.features:\n",
      "\n",
      "play_left_to_right(gamestates, home_team_id)\n",
      "\n"
     ]
    }
   ],
   "source": [
    "fs.play_left_to_right([acti])"
   ]
  },
  {
   "cell_type": "code",
   "execution_count": 6,
   "metadata": {},
   "outputs": [
    {
     "data": {
      "image/png": "[encoded data removed]",
      "text/plain": [
       "<Figure size 432x288 with 1 Axes>"
      ]
     },
     "metadata": {
      "needs_background": "light"
     },
     "output_type": "display_data"
    }
   ],
   "source": [
    "import matplotsoccer as mps\n",
    "import matplotlib.pyplot as plt\n",
    "\n",
    "a = actions[actions.type_name == \"shot\"][:100]\n",
    "ax = mps.field(show=False)\n",
    "ax.scatter(a.x,a.y)\n",
    "plt.show()"
   ]
  },
  {
   "cell_type": "code",
   "execution_count": 62,
   "metadata": {},
   "outputs": [
    {
     "name": "stdout",
     "output_type": "stream",
     "text": [
      "CPU times: user 545 ms, sys: 306 ms, total: 851 ms\n",
      "Wall time: 342 ms\n"
     ]
    }
   ],
   "source": [
    "%%time\n",
    "import sklearn.cluster as clus\n",
    "import sklearn.mixture as mix\n",
    "a = actions[actions.type_name == \"shot\"][:10000].copy()\n",
    "#c = clus.KMeans(20).fit(a[[\"x\",\"y\"]])\n",
    "gmm = mix.GaussianMixture(20).fit(a[[\"x\",\"y\"]])"
   ]
  },
  {
   "cell_type": "code",
   "execution_count": null,
   "metadata": {},
   "outputs": [],
   "source": [
    "gmm."
   ]
  },
  {
   "cell_type": "code",
   "execution_count": 64,
   "metadata": {
    "scrolled": true
   },
   "outputs": [
    {
     "data": {
      "image/png": "[encoded data removed]",
      "text/plain": [
       "<Figure size 432x288 with 1 Axes>"
      ]
     },
     "metadata": {
      "needs_background": "light"
     },
     "output_type": "display_data"
    }
   ],
   "source": [
    "ax = mps.field(show=False)\n",
    "colors = [\"red\",\"blue\",\"green\",\"purple\",\"orange\",\"cyan\",\"yellow\",\"grey\"]*100\n",
    "labels = gmm.predict(a[[\"x\",\"y\"]])\n",
    "ax.scatter(a.x,a.y,color=[colors[l] for l in labels])\n",
    "plt.show()"
   ]
  },
  {
   "cell_type": "code",
   "execution_count": 63,
   "metadata": {},
   "outputs": [
    {
     "data": {
      "image/png": "[encoded data removed]",
      "text/plain": [
       "<Figure size 432x288 with 1 Axes>"
      ]
     },
     "metadata": {
      "needs_background": "light"
     },
     "output_type": "display_data"
    }
   ],
   "source": [
    "ax = mps.field(show=False)\n",
    "#x = [cc[0] for cc in c.cluster_centers_]\n",
    "#y = [cc[1] for cc in c.cluster_centers_]\n",
    "x = [cc[0] for cc in gmm.means_]\n",
    "y = [cc[1] for cc in gmm.means_]\n",
    "ax.scatter(x,y)\n",
    "plt.show()"
   ]
  },
  {
   "cell_type": "code",
   "execution_count": 70,
   "metadata": {},
   "outputs": [
    {
     "name": "stderr",
     "output_type": "stream",
     "text": [
      "426it [00:01, 364.61it/s]\n"
     ]
    }
   ],
   "source": [
    "import numpy\n",
    "\n",
    "nbc = 20\n",
    "\n",
    "a[\"cluster_id\"] = c.labels_\n",
    "nbp = len(set(a.player_id))\n",
    "vectors = np.zeros((nbp,nbc))\n",
    "\n",
    "player_ids = []\n",
    "for i,(player_id,df) in tqdm.tqdm(enumerate(a.groupby([\"player_id\"]))):\n",
    "    probs = gmm.predict_proba(df[[\"x\",\"y\"]])\n",
    "    playervector = probs.sum(axis=0)\n",
    "    player_ids.append(player_id)\n",
    "    vectors[i,:] = playervector\n",
    "#vectors"
   ]
  },
  {
   "cell_type": "code",
   "execution_count": 43,
   "metadata": {},
   "outputs": [
    {
     "data": {
      "image/png": "[encoded data removed]",
      "text/plain": [
       "<Figure size 432x288 with 1 Axes>"
      ]
     },
     "metadata": {
      "needs_background": "light"
     },
     "output_type": "display_data"
    }
   ],
   "source": [
    "c_idx = vectors[3] > 0.1\n",
    "\n",
    "x = np.array([cc[0] for cc in c.cluster_centers_])\n",
    "y = np.array([cc[1] for cc in c.cluster_centers_])\n",
    "\n",
    "ax = mps.field(show=False)\n",
    "ax.scatter(x[c_idx],y[c_idx])\n",
    "plt.show()"
   ]
  },
  {
   "cell_type": "code",
   "execution_count": 1,
   "metadata": {},
   "outputs": [
    {
     "ename": "NameError",
     "evalue": "name 'vectors' is not defined",
     "output_type": "error",
     "traceback": [
      "\u001b[0;31m---------------------------------------------------------------------------\u001b[0m",
      "\u001b[0;31mNameError\u001b[0m                                 Traceback (most recent call last)",
      "\u001b[0;32m<ipython-input-1-1c638563edf8>\u001b[0m in \u001b[0;36m<module>\u001b[0;34m\u001b[0m\n\u001b[1;32m      1\u001b[0m \u001b[0;32mfrom\u001b[0m \u001b[0msklearn\u001b[0m\u001b[0;34m.\u001b[0m\u001b[0mdecomposition\u001b[0m \u001b[0;32mimport\u001b[0m \u001b[0mNMF\u001b[0m\u001b[0;34m\u001b[0m\u001b[0;34m\u001b[0m\u001b[0m\n\u001b[0;32m----> 2\u001b[0;31m \u001b[0mmodel\u001b[0m \u001b[0;34m=\u001b[0m \u001b[0mNMF\u001b[0m\u001b[0;34m(\u001b[0m\u001b[0;36m4\u001b[0m\u001b[0;34m)\u001b[0m\u001b[0;34m.\u001b[0m\u001b[0mfit\u001b[0m\u001b[0;34m(\u001b[0m\u001b[0mvectors\u001b[0m\u001b[0;34m)\u001b[0m\u001b[0;34m\u001b[0m\u001b[0;34m\u001b[0m\u001b[0m\n\u001b[0m\u001b[1;32m      3\u001b[0m \u001b[0mmodel\u001b[0m\u001b[0;34m.\u001b[0m\u001b[0mcomponents_\u001b[0m\u001b[0;34m\u001b[0m\u001b[0;34m\u001b[0m\u001b[0m\n\u001b[1;32m      4\u001b[0m \u001b[0;34m\u001b[0m\u001b[0m\n\u001b[1;32m      5\u001b[0m \u001b[0mprint\u001b[0m\u001b[0;34m(\u001b[0m\u001b[0mmodel\u001b[0m\u001b[0;34m.\u001b[0m\u001b[0mcomponents_\u001b[0m\u001b[0;34m)\u001b[0m\u001b[0;34m\u001b[0m\u001b[0;34m\u001b[0m\u001b[0m\n",
      "\u001b[0;31mNameError\u001b[0m: name 'vectors' is not defined"
     ]
    }
   ],
   "source": [
    "from sklearn.decomposition import NMF\n",
    "model = NMF(4).fit(vectors)\n",
    "model.components_\n",
    "\n",
    "print(model.components_)\n",
    "\n",
    "x = np.array([cc[0] for cc in gmm.means_])\n",
    "y = np.array([cc[1] for cc in gmm.means_])\n",
    "\n",
    "for component in model.components_:\n",
    "    c_idx = component > 0.1\n",
    "    ax = mps.field(show=False)\n",
    "    #ax.scatter(x[c_idx],y[c_idx],s=c_idx)\n",
    "    ax.scatter(x,y,s=100*component)\n",
    "    plt.show()"
   ]
  }
 ],
 "metadata": {
  "kernelspec": {
   "display_name": "Python 3",
   "language": "python",
   "name": "python3"
  },
  "language_info": {
   "codemirror_mode": {
    "name": "ipython",
    "version": 3
   },
   "file_extension": ".py",
   "mimetype": "text/x-python",
   "name": "python",
   "nbconvert_exporter": "python",
   "pygments_lexer": "ipython3",
   "version": "3.7.1"
  },
  "varInspector": {
   "cols": {
    "lenName": 16,
    "lenType": 16,
    "lenVar": 40
   },
   "kernels_config": {
    "python": {
     "delete_cmd_postfix": "",
     "delete_cmd_prefix": "del ",
     "library": "var_list.py",
     "varRefreshCmd": "print(var_dic_list())"
    },
    "r": {
     "delete_cmd_postfix": ") ",
     "delete_cmd_prefix": "rm(",
     "library": "var_list.r",
     "varRefreshCmd": "cat(var_dic_list()) "
    }
   },
   "types_to_exclude": [
    "module",
    "function",
    "builtin_function_or_method",
    "instance",
    "_Feature"
   ],
   "window_display": false
  }
 },
 "nbformat": 4,
 "nbformat_minor": 2
}
