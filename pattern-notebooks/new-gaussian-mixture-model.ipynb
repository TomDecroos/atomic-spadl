{
 "cells": [
  {
   "cell_type": "code",
   "execution_count": 1,
   "metadata": {},
   "outputs": [],
   "source": [
    "%load_ext autoreload\n",
    "%autoreload 2\n",
    "import os; import sys; sys.path.insert(0,'../')\n",
    "import pandas as pd\n",
    "import numpy as np\n",
    "import tqdm\n",
    "import warnings\n",
    "#warnings.simplefilter(action='ignore', category=pd.errors.PerformanceWarning)\n",
    "\n",
    "# import atomic.features as fs\n",
    "# import matplotlib.pyplot as plt\n",
    "# import pattern.vis as vis\n",
    "# import sklearn.mixture as mix\n",
    "# import matplotsoccer as mps\n",
    "# import atomic.vaep as vaep\n",
    "# import pattern.action as pat\n",
    "# import atomic.atomic_spadl as ato\n",
    "# import pattern.wgmm as wgmm"
   ]
  },
  {
   "cell_type": "code",
   "execution_count": 177,
   "metadata": {
    "scrolled": true
   },
   "outputs": [],
   "source": [
    "import numpy as np\n",
    "from scipy.stats import multivariate_normal\n",
    "import sklearn.cluster as cluster\n",
    "\n",
    "class Gauss:\n",
    "    def fit(self,X,w):\n",
    "        self.mean = np.average(X,weights=w,axis=0)\n",
    "        self.covariance = np.cov(X.T,aweights=w)\n",
    "        return self\n",
    "        \n",
    "    def pdf(self,X):\n",
    "        return multivariate_normal.pdf(X,mean=self.mean,cov=self.covariance)\n",
    "\n",
    "class MixtureModel:\n",
    "    \n",
    "    def __init__(self,k,distribution = Gauss,max_iter=10,tol=1e-05):\n",
    "        self.k = k\n",
    "        self.distribution = distribution\n",
    "        self.max_iter=max_iter\n",
    "        self.tol=tol\n",
    "        \n",
    "    def fit(self,X,verbose=False):\n",
    "        weights = self.init_weights(X)\n",
    "        \n",
    "        # learn models on initial weights\n",
    "        self.priors = weights.sum(axis=0)/weights.sum()\n",
    "        self.submodels = list(self.distribution().fit(X,w) for w in weights.T)\n",
    "        \n",
    "        iterations = range(self.max_iter) if not verbose else tqdm.tqdm(range(self.max_iter))\n",
    "        for _i in iterations:\n",
    "            # Expectation\n",
    "            for i in range(self.k):\n",
    "                weights[:,i] =  self.priors[i] * self.submodels[i].pdf(X)\n",
    "                \n",
    "            # Maximalization\n",
    "            self.priors = weights.sum(axis=0)/weights.sum()\n",
    "            for i in range(self.k):\n",
    "                self.submodels[i].fit(X,weights[:,i])\n",
    "        return self\n",
    "    \n",
    "    def init_weights(self,X):\n",
    "        # initialize weights with KMeans\n",
    "        n_samples,_ = X.shape\n",
    "        labels = cluster.KMeans(n_clusters=self.k,n_init=1).fit_predict(X)\n",
    "        weights = np.zeros((n_samples,self.k))\n",
    "        weights[np.arange(n_samples), labels] = 1\n",
    "        return weights\n",
    "    \n",
    "    def likelihoods(self,X):\n",
    "        pdfs = np.vstack([m.pdf(X) for m in self.submodels]).T\n",
    "        return self.prior * pdfs"
   ]
  },
  {
   "cell_type": "code",
   "execution_count": 163,
   "metadata": {},
   "outputs": [
    {
     "data": {
      "image/png": "[encoded data removed]",
      "text/plain": [
       "<Figure size 432x288 with 1 Axes>"
      ]
     },
     "metadata": {
      "needs_background": "light"
     },
     "output_type": "display_data"
    }
   ],
   "source": [
    "import matplotlib.pyplot as plt\n",
    "\n",
    "X = np.concatenate([np.random.normal(0,1,10000),np.random.normal(3,1,20000)]).reshape(-1, 1)\n",
    "plt.hist(x,bins=100)\n",
    "plt.show()"
   ]
  },
  {
   "cell_type": "code",
   "execution_count": 178,
   "metadata": {},
   "outputs": [
    {
     "name": "stdout",
     "output_type": "stream",
     "text": [
      "CPU times: user 384 ms, sys: 290 ms, total: 675 ms\n",
      "Wall time: 103 ms\n"
     ]
    },
    {
     "data": {
      "text/plain": [
       "{'k': 3,\n",
       " 'distribution': __main__.Gauss,\n",
       " 'max_iter': 10,\n",
       " 'tol': 1e-05,\n",
       " 'priors': array([0.0007976 , 0.65936494, 0.33983746]),\n",
       " 'submodels': [<__main__.Gauss at 0x7f65d921f780>,\n",
       "  <__main__.Gauss at 0x7f65d921fda0>,\n",
       "  <__main__.Gauss at 0x7f65d921fa58>]}"
      ]
     },
     "execution_count": 178,
     "metadata": {},
     "output_type": "execute_result"
    }
   ],
   "source": [
    "%%time\n",
    "model = MixtureModel(3,max_iter=10)\n",
    "model.fit(X)\n",
    "model.__dict__"
   ]
  },
  {
   "cell_type": "code",
   "execution_count": 138,
   "metadata": {},
   "outputs": [
    {
     "name": "stdout",
     "output_type": "stream",
     "text": [
      "CPU times: user 154 ms, sys: 152 ms, total: 306 ms\n",
      "Wall time: 52.5 ms\n"
     ]
    },
    {
     "data": {
      "text/plain": [
       "{'n_components': 2,\n",
       " 'tol': 0.001,\n",
       " 'reg_covar': 1e-06,\n",
       " 'max_iter': 100,\n",
       " 'n_init': 1,\n",
       " 'init_params': 'kmeans',\n",
       " 'random_state': None,\n",
       " 'warm_start': False,\n",
       " 'verbose': 0,\n",
       " 'verbose_interval': 10,\n",
       " 'covariance_type': 'full',\n",
       " 'weights_init': None,\n",
       " 'means_init': None,\n",
       " 'precisions_init': None,\n",
       " 'converged_': True,\n",
       " 'weights_': array([0.64285662, 0.35714338]),\n",
       " 'means_': array([[3.04289276],\n",
       "        [0.09188665]]),\n",
       " 'covariances_': array([[[0.92014515]],\n",
       " \n",
       "        [[1.0987618 ]]]),\n",
       " 'precisions_cholesky_': array([[[1.04248984]],\n",
       " \n",
       "        [[0.95399967]]]),\n",
       " 'precisions_': array([[[1.08678506]],\n",
       " \n",
       "        [[0.91011537]]]),\n",
       " 'n_iter_': 3,\n",
       " 'lower_bound_': -1.8980048333845387}"
      ]
     },
     "execution_count": 138,
     "metadata": {},
     "output_type": "execute_result"
    }
   ],
   "source": [
    "%%time\n",
    "import sklearn.mixture as mix\n",
    "model = mix.GaussianMixture(2)\n",
    "model.fit(X)\n",
    "model.means_,model.covariances_\n",
    "model.__dict__"
   ]
  }
 ],
 "metadata": {
  "kernelspec": {
   "display_name": "Python 3",
   "language": "python",
   "name": "python3"
  },
  "language_info": {
   "codemirror_mode": {
    "name": "ipython",
    "version": 3
   },
   "file_extension": ".py",
   "mimetype": "text/x-python",
   "name": "python",
   "nbconvert_exporter": "python",
   "pygments_lexer": "ipython3",
   "version": "3.7.1"
  },
  "varInspector": {
   "cols": {
    "lenName": 16,
    "lenType": 16,
    "lenVar": 40
   },
   "kernels_config": {
    "python": {
     "delete_cmd_postfix": "",
     "delete_cmd_prefix": "del ",
     "library": "var_list.py",
     "varRefreshCmd": "print(var_dic_list())"
    },
    "r": {
     "delete_cmd_postfix": ") ",
     "delete_cmd_prefix": "rm(",
     "library": "var_list.r",
     "varRefreshCmd": "cat(var_dic_list()) "
    }
   },
   "types_to_exclude": [
    "module",
    "function",
    "builtin_function_or_method",
    "instance",
    "_Feature"
   ],
   "window_display": false
  }
 },
 "nbformat": 4,
 "nbformat_minor": 2
}
