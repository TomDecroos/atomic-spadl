{
 "cells": [
  {
   "cell_type": "code",
   "execution_count": 4,
   "metadata": {},
   "outputs": [
    {
     "name": "stdout",
     "output_type": "stream",
     "text": [
      "The autoreload extension is already loaded. To reload it, use:\n",
      "  %reload_ext autoreload\n"
     ]
    }
   ],
   "source": [
    "%load_ext autoreload\n",
    "%autoreload 2\n",
    "import os; import sys; sys.path.insert(0,'../')\n",
    "import pandas as pd\n",
    "import numpy as np\n",
    "import tqdm\n",
    "import warnings\n",
    "#warnings.simplefilter(action='ignore', category=pd.errors.PerformanceWarning)\n",
    "\n",
    "# import atomic.features as fs\n",
    "# import matplotlib.pyplot as plt\n",
    "# import pattern.vis as vis\n",
    "# import sklearn.mixture as mix\n",
    "# import matplotsoccer as mps\n",
    "# import atomic.vaep as vaep\n",
    "# import pattern.action as pat\n",
    "# import atomic.atomic_spadl as ato\n",
    "# import pattern.wgmm as wgmm\n",
    "import matplotlib.pyplot as plt"
   ]
  },
  {
   "cell_type": "code",
   "execution_count": 74,
   "metadata": {
    "scrolled": true
   },
   "outputs": [],
   "source": [
    "import numpy as np\n",
    "from scipy.stats import multivariate_normal, vonmises\n",
    "from scipy.stats import vonmises\n",
    "import sklearn.cluster as cluster\n",
    "\n",
    "class Gauss:\n",
    "    def fit(self,X,w):\n",
    "        self.mean = np.average(X,weights=w,axis=0)\n",
    "        self.covariance = np.cov(X.T,aweights=w)\n",
    "        return self\n",
    "    \n",
    "    def pdf(self,X):\n",
    "        return multivariate_normal.pdf(X,mean=self.mean,cov=self.covariance)\n",
    "    \n",
    "    \n",
    "class VonMises:\n",
    "    def fit(self,alpha,w):\n",
    "        sin = np.average(np.sin(alpha),weights=w,axis=0)\n",
    "        cos = np.average(np.cos(alpha),weights=w,axis=0)\n",
    "        \n",
    "        self.loc = np.arctan2(sin,cos)\n",
    "        self.R = np.sqrt(sin**2 + cos**2) # mean resultant length\n",
    "        self.kappa = self.R * (2 - self.R**2) / (1 - self.R**2) # approximation for kappa\n",
    "        return self\n",
    "    \n",
    "    def pdf(self,alpha):\n",
    "        return vonmises.pdf(alpha,kappa=self.kappa, loc=self.loc).flatten()\n",
    "\n",
    "class MixtureModel:\n",
    "    \n",
    "    def __init__(self,k,distribution = Gauss,max_iter=10,tol=1e-04):\n",
    "        self.k = k\n",
    "        self.distribution = distribution\n",
    "        self.max_iter=max_iter\n",
    "        self.tol=tol\n",
    "    \n",
    "    def no_sparsity(self,X,weights=None):\n",
    "        if weights is None:\n",
    "            weights = np.zeros(len(X)) + 1\n",
    "        pos_weights_idx = weights > self.tol\n",
    "        \n",
    "        small_X = X[pos_weights_idx]\n",
    "        small_w = weights[pos_weights_idx]\n",
    "        return small_X, small_w\n",
    "        \n",
    "    def fit(self,X,weights=None,verbose=False):\n",
    "        if weights is None:\n",
    "            weights = np.zeros(len(X)) + 1\n",
    "        pos_weights_idx = weights > self.tol\n",
    "        X = X[pos_weights_idx]\n",
    "        weights = weights[pos_weights_idx]\n",
    "        \n",
    "        responsibilities = self.init_responsibilities(X, weights)\n",
    "        \n",
    "        # learn models on initial weights\n",
    "        self.priors = responsibilities.sum(axis=0)/responsibilities.sum()\n",
    "        self.submodels = list(self.distribution().fit(X, weights * resp) for resp in responsibilities.T)\n",
    "        \n",
    "        iterations = range(self.max_iter) if not verbose else tqdm.tqdm(range(self.max_iter))\n",
    "        self.loglikelihood = -np.inf\n",
    "        for self._n_iter in iterations:\n",
    "            # Expectation\n",
    "            for i in range(self.k):\n",
    "                responsibilities[:,i] = self.priors[i] * self.submodels[i].pdf(X)\n",
    "                #responsibilities[:,i] = self.submodels[i].pdf(X)\n",
    "                \n",
    "            # enough improvement or not?\n",
    "            new_loglikelihood = (weights * np.log(responsibilities.sum(axis=1))).sum()\n",
    "            if new_loglikelihood > self.loglikelihood + self.tol:\n",
    "                self.loglikelihood = new_loglikelihood\n",
    "            else:\n",
    "                break\n",
    "            \n",
    "#             if self._n_iter % 5 == 0:\n",
    "#                 print(self._n_iter)\n",
    "#                 for pdf in responsibilities.T:\n",
    "#                     plt.scatter(X,pdf)\n",
    "#                 plt.show()\n",
    "\n",
    "            # normalize responsibilities such that each data point occurs with P=1\n",
    "            responsibilities /= responsibilities.sum(axis=1)[:,np.newaxis]\n",
    "\n",
    "            # Maximalization\n",
    "            self.priors = responsibilities.sum(axis=0)/responsibilities.sum()\n",
    "            for i in range(self.k):\n",
    "                self.submodels[i].fit(X,weights * responsibilities[:,i])\n",
    "\n",
    "        return self\n",
    "    \n",
    "    def init_responsibilities(self,X,weights):\n",
    "        # initialize weights with KMeans\n",
    "        n_samples,_ = X.shape\n",
    "        labels = cluster.KMeans(n_clusters=self.k,n_init=1).fit_predict(X,sample_weight=weights)\n",
    "        resp = np.zeros((n_samples,self.k))\n",
    "        resp[np.arange(n_samples), labels] = 1\n",
    "        return resp\n",
    "    \n",
    "    def predict_proba(self,X,weights=None):\n",
    "        p = np.zeros((len(X),self.k))\n",
    "    \n",
    "        if weights is None:\n",
    "            weights = np.zeros(len(X)) + 1\n",
    "        pos_weights_idx = weights > self.tol\n",
    "        X = X[pos_weights_idx]\n",
    "        weights = weights[pos_weights_idx]\n",
    "        \n",
    "        pdfs = np.vstack([m.pdf(X) for m in self.submodels]).T\n",
    "        resp = self.priors * pdfs\n",
    "        probs = resp / resp.sum(axis=1)[:,np.newaxis]\n",
    "        \n",
    "        p[pos_weights_idx, :] =  (weights * probs.T).T\n",
    "        return p\n",
    "\n",
    "        \n",
    "    def responsibilities(self,X,weights=None):\n",
    "        X, weights = self.no_sparsity(X,weights)\n",
    "        \n",
    "        pdfs = np.vstack([m.pdf(X) for m in self.submodels]).T\n",
    "        return self.priors * pdfs\n",
    "    \n",
    "    def likelihoods(self,X):\n",
    "        return self.pdfs(X).sum(axis=1)\n",
    "    \n",
    "    def params(self):\n",
    "        return list(m.__dict__ for m in self.submodels)\n",
    "\n",
    "np.set_printoptions(suppress=True)"
   ]
  },
  {
   "cell_type": "code",
   "execution_count": 9,
   "metadata": {},
   "outputs": [
    {
     "data": {
      "text/plain": [
       "array([10, 15])"
      ]
     },
     "execution_count": 9,
     "metadata": {},
     "output_type": "execute_result"
    }
   ],
   "source": [
    "np.array([5,5]) * np.array([2,3])"
   ]
  },
  {
   "cell_type": "code",
   "execution_count": 75,
   "metadata": {
    "scrolled": false
   },
   "outputs": [
    {
     "data": {
      "image/png": "[encoded data removed]",
      "text/plain": [
       "<Figure size 432x288 with 1 Axes>"
      ]
     },
     "metadata": {
      "needs_background": "light"
     },
     "output_type": "display_data"
    },
    {
     "name": "stdout",
     "output_type": "stream",
     "text": [
      "25 -5204.8145445146165 [{'loc': array([3.00475084]), 'R': array([0.89312626]), 'kappa': array([5.30743044])}, {'loc': array([-0.00968555]), 'R': array([0.94970049]), 'kappa': array([10.63370485])}]\n"
     ]
    },
    {
     "data": {
      "text/plain": [
       "array([[0.03481884, 0.06518116],\n",
       "       [0.19999991, 0.00000009],\n",
       "       [0.        , 0.        ],\n",
       "       [0.39999998, 0.00000002],\n",
       "       [0.43839216, 0.06160784]])"
      ]
     },
     "execution_count": 75,
     "metadata": {},
     "output_type": "execute_result"
    }
   ],
   "source": [
    "X = np.concatenate([np.random.vonmises(0,10,500),np.random.vonmises(3,5,5000)]).reshape(-1, 1)\n",
    "plt.hist(X,bins=100)\n",
    "plt.show()\n",
    "\n",
    "model = MixtureModel(k=2,distribution=VonMises,max_iter=100)\n",
    "model.fit(X)\n",
    "print(model._n_iter,model.loglikelihood,model.params())\n",
    "\n",
    "model.predict_proba(np.array([1,2,3,4,5]).reshape(-1,1),np.array([0.1,0.2,0,0.4,0.5]))\n",
    "\n",
    "# import matplotlib.pyplot as plt\n",
    "# # #hood = model.likelihoods(X)\n",
    "# for pdf in model.pdfs(X).T:\n",
    "#     plt.scatter(X,pdf)\n",
    "# plt.show()\n",
    "\n",
    "# model = MixtureModel(k=2,distribution=Gauss,max_iter=100)\n",
    "# model.fit(X)\n",
    "# print(model._n_iter,model.loglikelihood,model.params())\n",
    "\n",
    "# import matplotlib.pyplot as plt\n",
    "# # #hood = model.likelihoods(X)\n",
    "# for pdf in model.pdfs(X).T:\n",
    "#     plt.scatter(X,pdf)\n",
    "# plt.show()"
   ]
  },
  {
   "cell_type": "code",
   "execution_count": 126,
   "metadata": {},
   "outputs": [
    {
     "data": {
      "image/png": "[encoded data removed]",
      "text/plain": [
       "<Figure size 432x288 with 1 Axes>"
      ]
     },
     "metadata": {
      "needs_background": "light"
     },
     "output_type": "display_data"
    }
   ],
   "source": [
    "import matplotlib.pyplot as plt\n",
    "\n",
    "X = np.concatenate([np.random.normal(0,1,500),np.random.normal(3,1,1000)]).reshape(-1, 1)\n",
    "plt.hist(X,bins=100)\n",
    "plt.show()"
   ]
  },
  {
   "cell_type": "code",
   "execution_count": 129,
   "metadata": {},
   "outputs": [
    {
     "name": "stdout",
     "output_type": "stream",
     "text": [
      "2 48 -2877.660207432143 [{'mean': array([3.04367491]), 'covariance': array([[0.96544013]])}, {'mean': array([0.03355804]), 'covariance': array([[1.18152838]])}]\n",
      "CPU times: user 78.1 ms, sys: 0 ns, total: 78.1 ms\n",
      "Wall time: 91.4 ms\n"
     ]
    }
   ],
   "source": [
    "%%time\n",
    "\n",
    "for i in range(2,3):\n",
    "    model = MixtureModel(i,max_iter=1000)\n",
    "    model.fit(X)\n",
    "    print(i,model._n_iter,model.loglikelihood,model.params())\n",
    "\n",
    "# import matplotlib.pyplot as plt\n",
    "# #hood = model.likelihoods(X)\n",
    "# for pdf in model.pdfs(X).T:\n",
    "#     plt.scatter(X,pdf)\n",
    "# plt.show()"
   ]
  },
  {
   "cell_type": "code",
   "execution_count": 31,
   "metadata": {},
   "outputs": [
    {
     "name": "stdout",
     "output_type": "stream",
     "text": [
      "CPU times: user 325 ms, sys: 238 ms, total: 563 ms\n",
      "Wall time: 92 ms\n"
     ]
    },
    {
     "data": {
      "text/plain": [
       "{'n_components': 2,\n",
       " 'tol': 0.001,\n",
       " 'reg_covar': 1e-06,\n",
       " 'max_iter': 100,\n",
       " 'n_init': 1,\n",
       " 'init_params': 'kmeans',\n",
       " 'random_state': None,\n",
       " 'warm_start': False,\n",
       " 'verbose': 0,\n",
       " 'verbose_interval': 10,\n",
       " 'covariance_type': 'full',\n",
       " 'weights_init': None,\n",
       " 'means_init': None,\n",
       " 'precisions_init': None,\n",
       " 'converged_': True,\n",
       " 'weights_': array([0.6991055, 0.3008945]),\n",
       " 'means_': array([[-0.73844581],\n",
       "        [ 2.74492006]]),\n",
       " 'covariances_': array([[[2.74412695]],\n",
       " \n",
       "        [[0.07341916]]]),\n",
       " 'precisions_cholesky_': array([[[0.60366765]],\n",
       " \n",
       "        [[3.69058578]]]),\n",
       " 'precisions_': array([[[ 0.36441463]],\n",
       " \n",
       "        [[13.62042338]]]),\n",
       " 'n_iter_': 17,\n",
       " 'lower_bound_': -1.9014118363875248}"
      ]
     },
     "execution_count": 31,
     "metadata": {},
     "output_type": "execute_result"
    }
   ],
   "source": [
    "%%time\n",
    "import sklearn.mixture as mix\n",
    "model = mix.GaussianMixture(2)\n",
    "model.fit(X)\n",
    "model.means_,model.covariances_\n",
    "model.__dict__"
   ]
  },
  {
   "cell_type": "code",
   "execution_count": 38,
   "metadata": {},
   "outputs": [
    {
     "data": {
      "text/plain": [
       "array([[0.80925301, 0.19074699]])"
      ]
     },
     "execution_count": 38,
     "metadata": {},
     "output_type": "execute_result"
    }
   ],
   "source": [
    "model.predict_proba([[2]])"
   ]
  }
 ],
 "metadata": {
  "kernelspec": {
   "display_name": "Python 3",
   "language": "python",
   "name": "python3"
  },
  "language_info": {
   "codemirror_mode": {
    "name": "ipython",
    "version": 3
   },
   "file_extension": ".py",
   "mimetype": "text/x-python",
   "name": "python",
   "nbconvert_exporter": "python",
   "pygments_lexer": "ipython3",
   "version": "3.7.1"
  },
  "varInspector": {
   "cols": {
    "lenName": 16,
    "lenType": 16,
    "lenVar": 40
   },
   "kernels_config": {
    "python": {
     "delete_cmd_postfix": "",
     "delete_cmd_prefix": "del ",
     "library": "var_list.py",
     "varRefreshCmd": "print(var_dic_list())"
    },
    "r": {
     "delete_cmd_postfix": ") ",
     "delete_cmd_prefix": "rm(",
     "library": "var_list.r",
     "varRefreshCmd": "cat(var_dic_list()) "
    }
   },
   "types_to_exclude": [
    "module",
    "function",
    "builtin_function_or_method",
    "instance",
    "_Feature"
   ],
   "window_display": false
  }
 },
 "nbformat": 4,
 "nbformat_minor": 2
}
