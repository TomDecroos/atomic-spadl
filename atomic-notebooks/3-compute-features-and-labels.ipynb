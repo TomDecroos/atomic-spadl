{
 "cells": [
  {
   "cell_type": "code",
   "execution_count": 1,
   "metadata": {},
   "outputs": [],
   "source": [
    "%load_ext autoreload\n",
    "%autoreload 2\n",
    "import os; import sys; sys.path.insert(0,'../')\n",
    "import pandas as pd\n",
    "import tqdm\n",
    "import warnings\n",
    "warnings.simplefilter(action='ignore', category=pd.errors.PerformanceWarning)\n",
    "\n",
    "import socceraction.atomic.features as fs\n",
    "import socceraction.atomic.labels as lab"
   ]
  },
  {
   "cell_type": "code",
   "execution_count": 6,
   "metadata": {},
   "outputs": [],
   "source": [
    "## Configure file and folder names\n",
    "datafolder = \"../data/private\"\n",
    "spadl_h5 = os.path.join(datafolder,\"spadl-statsbomb.h5\")\n",
    "features_h5 = os.path.join(datafolder,\"atomic-features.h5\")\n",
    "labels_h5 = os.path.join(datafolder,\"atomic-labels.h5\")\n",
    "predictions_h5 = os.path.join(datafolder,\"atomic-predictions.h5\")"
   ]
  },
  {
   "cell_type": "code",
   "execution_count": 7,
   "metadata": {},
   "outputs": [
    {
     "name": "stdout",
     "output_type": "stream",
     "text": [
      "nb of games: 760\n"
     ]
    }
   ],
   "source": [
    "games = pd.read_hdf(spadl_h5,\"games\")\n",
    "games = games[games.competition_name == \"Premier League\"]\n",
    "print(\"nb of games:\", len(games))\n",
    "\n",
    "actiontypes = pd.read_hdf(spadl_h5, \"atomic_actiontypes\")\n",
    "bodyparts = pd.read_hdf(spadl_h5, \"bodyparts\")"
   ]
  },
  {
   "cell_type": "code",
   "execution_count": 8,
   "metadata": {},
   "outputs": [
    {
     "name": "stderr",
     "output_type": "stream",
     "text": [
      "Generating and storing features in ../data/private/atomic-features.h5: 100%|██████████| 760/760 [04:04<00:00,  3.11it/s]\n"
     ]
    }
   ],
   "source": [
    "xfns = [fs.actiontype,\n",
    "       fs.actiontype_onehot,\n",
    "       fs.bodypart,\n",
    "       fs.bodypart_onehot,\n",
    "       fs.goalscore,\n",
    "       fs.location,\n",
    "       fs.polar,\n",
    "       fs.direction,\n",
    "       fs.team,\n",
    "       fs.time,\n",
    "       fs.time_delta\n",
    "      ]\n",
    "\n",
    "for game in tqdm.tqdm(list(games.itertuples()),desc=f\"Generating and storing features in {features_h5}\"):\n",
    "    actions = pd.read_hdf(spadl_h5,f\"atomic_actions/game_{game.game_id}\")\n",
    "    actions = (\n",
    "        actions.merge(actiontypes,how=\"left\")\n",
    "        .merge(bodyparts,how=\"left\")\n",
    "        .reset_index(drop=True)\n",
    "    )\n",
    "    gamestates = fs.gamestates(actions,3)\n",
    "    gamestates = fs.play_left_to_right(gamestates,game.home_team_id)\n",
    "    \n",
    "    X = pd.concat([fn(gamestates) for fn in xfns],axis=1)\n",
    "    X.to_hdf(features_h5,f\"game_{game.game_id}\")"
   ]
  },
  {
   "cell_type": "code",
   "execution_count": 9,
   "metadata": {},
   "outputs": [
    {
     "name": "stderr",
     "output_type": "stream",
     "text": [
      "Computing and storing labels in ../data/private/atomic-labels.h5: 100%|██████████| 760/760 [02:30<00:00,  5.05it/s]\n"
     ]
    }
   ],
   "source": [
    "yfns = [lab.scores,lab.concedes,lab.goal_from_shot]\n",
    "\n",
    "for game in tqdm.tqdm(list(games.itertuples()),desc=f\"Computing and storing labels in {labels_h5}\"):\n",
    "    actions = pd.read_hdf(spadl_h5,f\"atomic_actions/game_{game.game_id}\")\n",
    "    actions = (\n",
    "        actions.merge(actiontypes,how=\"left\")\n",
    "        .merge(bodyparts,how=\"left\")\n",
    "        .reset_index(drop=True)\n",
    "    )\n",
    "    Y = pd.concat([fn(actions) for fn in yfns],axis=1)\n",
    "    Y.to_hdf(labels_h5,f\"game_{game.game_id}\")"
   ]
  }
 ],
 "metadata": {
  "kernelspec": {
   "display_name": "Python 3",
   "language": "python",
   "name": "python3"
  },
  "language_info": {
   "codemirror_mode": {
    "name": "ipython",
    "version": 3
   },
   "file_extension": ".py",
   "mimetype": "text/x-python",
   "name": "python",
   "nbconvert_exporter": "python",
   "pygments_lexer": "ipython3",
   "version": "3.7.1"
  },
  "varInspector": {
   "cols": {
    "lenName": 16,
    "lenType": 16,
    "lenVar": 40
   },
   "kernels_config": {
    "python": {
     "delete_cmd_postfix": "",
     "delete_cmd_prefix": "del ",
     "library": "var_list.py",
     "varRefreshCmd": "print(var_dic_list())"
    },
    "r": {
     "delete_cmd_postfix": ") ",
     "delete_cmd_prefix": "rm(",
     "library": "var_list.r",
     "varRefreshCmd": "cat(var_dic_list()) "
    }
   },
   "types_to_exclude": [
    "module",
    "function",
    "builtin_function_or_method",
    "instance",
    "_Feature"
   ],
   "window_display": false
  }
 },
 "nbformat": 4,
 "nbformat_minor": 2
}
